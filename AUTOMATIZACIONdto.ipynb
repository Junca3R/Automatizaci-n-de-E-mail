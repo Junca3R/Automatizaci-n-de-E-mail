{
 "cells": [
  {
   "cell_type": "markdown",
   "id": "3d1b088d",
   "metadata": {},
   "source": [
    "# Buscar datos de acciones automáticamente\n",
    "\n",
    "! pip install yfinance\n",
    "! pip install matplotlib"
   ]
  },
  {
   "cell_type": "code",
   "execution_count": null,
   "id": "99dcb456",
   "metadata": {},
   "outputs": [],
   "source": [
    "! pip install yfinance\n",
    "! pip install matplotlib"
   ]
  },
  {
   "cell_type": "code",
   "execution_count": 2,
   "id": "b9aa00d4",
   "metadata": {},
   "outputs": [],
   "source": [
    "import yfinance"
   ]
  },
  {
   "cell_type": "code",
   "execution_count": 3,
   "id": "a1253735",
   "metadata": {},
   "outputs": [
    {
     "data": {
      "text/html": [
       "<div>\n",
       "<style scoped>\n",
       "    .dataframe tbody tr th:only-of-type {\n",
       "        vertical-align: middle;\n",
       "    }\n",
       "\n",
       "    .dataframe tbody tr th {\n",
       "        vertical-align: top;\n",
       "    }\n",
       "\n",
       "    .dataframe thead th {\n",
       "        text-align: right;\n",
       "    }\n",
       "</style>\n",
       "<table border=\"1\" class=\"dataframe\">\n",
       "  <thead>\n",
       "    <tr style=\"text-align: right;\">\n",
       "      <th></th>\n",
       "      <th>Open</th>\n",
       "      <th>High</th>\n",
       "      <th>Low</th>\n",
       "      <th>Close</th>\n",
       "      <th>Volume</th>\n",
       "      <th>Dividends</th>\n",
       "      <th>Stock Splits</th>\n",
       "    </tr>\n",
       "    <tr>\n",
       "      <th>Date</th>\n",
       "      <th></th>\n",
       "      <th></th>\n",
       "      <th></th>\n",
       "      <th></th>\n",
       "      <th></th>\n",
       "      <th></th>\n",
       "      <th></th>\n",
       "    </tr>\n",
       "  </thead>\n",
       "  <tbody>\n",
       "    <tr>\n",
       "      <th>2024-11-20 00:00:00-05:00</th>\n",
       "      <td>227.511173</td>\n",
       "      <td>229.376668</td>\n",
       "      <td>225.346397</td>\n",
       "      <td>228.448914</td>\n",
       "      <td>35169600</td>\n",
       "      <td>0.0</td>\n",
       "      <td>0.0</td>\n",
       "    </tr>\n",
       "    <tr>\n",
       "      <th>2024-11-21 00:00:00-05:00</th>\n",
       "      <td>228.329212</td>\n",
       "      <td>229.606130</td>\n",
       "      <td>225.166842</td>\n",
       "      <td>227.970078</td>\n",
       "      <td>42108300</td>\n",
       "      <td>0.0</td>\n",
       "      <td>0.0</td>\n",
       "    </tr>\n",
       "    <tr>\n",
       "      <th>2024-11-22 00:00:00-05:00</th>\n",
       "      <td>227.511176</td>\n",
       "      <td>230.164779</td>\n",
       "      <td>227.511176</td>\n",
       "      <td>229.316818</td>\n",
       "      <td>38168300</td>\n",
       "      <td>0.0</td>\n",
       "      <td>0.0</td>\n",
       "    </tr>\n",
       "    <tr>\n",
       "      <th>2024-11-25 00:00:00-05:00</th>\n",
       "      <td>230.903006</td>\n",
       "      <td>232.688691</td>\n",
       "      <td>229.187143</td>\n",
       "      <td>232.309601</td>\n",
       "      <td>90152800</td>\n",
       "      <td>0.0</td>\n",
       "      <td>0.0</td>\n",
       "    </tr>\n",
       "    <tr>\n",
       "      <th>2024-11-26 00:00:00-05:00</th>\n",
       "      <td>232.768491</td>\n",
       "      <td>235.003106</td>\n",
       "      <td>232.768491</td>\n",
       "      <td>234.494324</td>\n",
       "      <td>45986200</td>\n",
       "      <td>0.0</td>\n",
       "      <td>0.0</td>\n",
       "    </tr>\n",
       "    <tr>\n",
       "      <th>...</th>\n",
       "      <td>...</td>\n",
       "      <td>...</td>\n",
       "      <td>...</td>\n",
       "      <td>...</td>\n",
       "      <td>...</td>\n",
       "      <td>...</td>\n",
       "      <td>...</td>\n",
       "    </tr>\n",
       "    <tr>\n",
       "      <th>2025-05-14 00:00:00-04:00</th>\n",
       "      <td>212.429993</td>\n",
       "      <td>213.940002</td>\n",
       "      <td>210.580002</td>\n",
       "      <td>212.330002</td>\n",
       "      <td>49325800</td>\n",
       "      <td>0.0</td>\n",
       "      <td>0.0</td>\n",
       "    </tr>\n",
       "    <tr>\n",
       "      <th>2025-05-15 00:00:00-04:00</th>\n",
       "      <td>210.949997</td>\n",
       "      <td>212.960007</td>\n",
       "      <td>209.539993</td>\n",
       "      <td>211.449997</td>\n",
       "      <td>45029500</td>\n",
       "      <td>0.0</td>\n",
       "      <td>0.0</td>\n",
       "    </tr>\n",
       "    <tr>\n",
       "      <th>2025-05-16 00:00:00-04:00</th>\n",
       "      <td>212.360001</td>\n",
       "      <td>212.570007</td>\n",
       "      <td>209.770004</td>\n",
       "      <td>211.259995</td>\n",
       "      <td>54737900</td>\n",
       "      <td>0.0</td>\n",
       "      <td>0.0</td>\n",
       "    </tr>\n",
       "    <tr>\n",
       "      <th>2025-05-19 00:00:00-04:00</th>\n",
       "      <td>207.910004</td>\n",
       "      <td>209.479996</td>\n",
       "      <td>204.259995</td>\n",
       "      <td>208.779999</td>\n",
       "      <td>45310800</td>\n",
       "      <td>0.0</td>\n",
       "      <td>0.0</td>\n",
       "    </tr>\n",
       "    <tr>\n",
       "      <th>2025-05-20 00:00:00-04:00</th>\n",
       "      <td>207.669998</td>\n",
       "      <td>208.470001</td>\n",
       "      <td>206.470001</td>\n",
       "      <td>207.509293</td>\n",
       "      <td>13054246</td>\n",
       "      <td>0.0</td>\n",
       "      <td>0.0</td>\n",
       "    </tr>\n",
       "  </tbody>\n",
       "</table>\n",
       "<p>123 rows × 7 columns</p>\n",
       "</div>"
      ],
      "text/plain": [
       "                                 Open        High         Low       Close  \\\n",
       "Date                                                                        \n",
       "2024-11-20 00:00:00-05:00  227.511173  229.376668  225.346397  228.448914   \n",
       "2024-11-21 00:00:00-05:00  228.329212  229.606130  225.166842  227.970078   \n",
       "2024-11-22 00:00:00-05:00  227.511176  230.164779  227.511176  229.316818   \n",
       "2024-11-25 00:00:00-05:00  230.903006  232.688691  229.187143  232.309601   \n",
       "2024-11-26 00:00:00-05:00  232.768491  235.003106  232.768491  234.494324   \n",
       "...                               ...         ...         ...         ...   \n",
       "2025-05-14 00:00:00-04:00  212.429993  213.940002  210.580002  212.330002   \n",
       "2025-05-15 00:00:00-04:00  210.949997  212.960007  209.539993  211.449997   \n",
       "2025-05-16 00:00:00-04:00  212.360001  212.570007  209.770004  211.259995   \n",
       "2025-05-19 00:00:00-04:00  207.910004  209.479996  204.259995  208.779999   \n",
       "2025-05-20 00:00:00-04:00  207.669998  208.470001  206.470001  207.509293   \n",
       "\n",
       "                             Volume  Dividends  Stock Splits  \n",
       "Date                                                          \n",
       "2024-11-20 00:00:00-05:00  35169600        0.0           0.0  \n",
       "2024-11-21 00:00:00-05:00  42108300        0.0           0.0  \n",
       "2024-11-22 00:00:00-05:00  38168300        0.0           0.0  \n",
       "2024-11-25 00:00:00-05:00  90152800        0.0           0.0  \n",
       "2024-11-26 00:00:00-05:00  45986200        0.0           0.0  \n",
       "...                             ...        ...           ...  \n",
       "2025-05-14 00:00:00-04:00  49325800        0.0           0.0  \n",
       "2025-05-15 00:00:00-04:00  45029500        0.0           0.0  \n",
       "2025-05-16 00:00:00-04:00  54737900        0.0           0.0  \n",
       "2025-05-19 00:00:00-04:00  45310800        0.0           0.0  \n",
       "2025-05-20 00:00:00-04:00  13054246        0.0           0.0  \n",
       "\n",
       "[123 rows x 7 columns]"
      ]
     },
     "execution_count": 3,
     "metadata": {},
     "output_type": "execute_result"
    }
   ],
   "source": [
    "yfinance.Ticker(\"AAPL\").history(\"6mo\")"
   ]
  },
  {
   "cell_type": "code",
   "execution_count": 11,
   "id": "5cbb3452",
   "metadata": {},
   "outputs": [
    {
     "data": {
      "text/plain": [
       "<Axes: xlabel='Date'>"
      ]
     },
     "execution_count": 11,
     "metadata": {},
     "output_type": "execute_result"
    },
    {
     "data": {
      "image/png": "[encoded data removed]",
      "text/plain": [
       "<Figure size 640x480 with 1 Axes>"
      ]
     },
     "metadata": {},
     "output_type": "display_data"
    }
   ],
   "source": [
    "data = yfinance.Ticker(\"AAPL\").history(\"6mo\")\n",
    "cierre = data.Close\n",
    "\n",
    "cierre.plot()"
   ]
  },
  {
   "cell_type": "code",
   "execution_count": 5,
   "id": "c34a6b11",
   "metadata": {},
   "outputs": [
    {
     "data": {
      "text/plain": [
       "Date\n",
       "2024-11-20 00:00:00-05:00    228.448914\n",
       "2024-11-21 00:00:00-05:00    227.970078\n",
       "2024-11-22 00:00:00-05:00    229.316818\n",
       "2024-11-25 00:00:00-05:00    232.309601\n",
       "2024-11-26 00:00:00-05:00    234.494324\n",
       "                                ...    \n",
       "2025-05-14 00:00:00-04:00    212.330002\n",
       "2025-05-15 00:00:00-04:00    211.449997\n",
       "2025-05-16 00:00:00-04:00    211.259995\n",
       "2025-05-19 00:00:00-04:00    208.779999\n",
       "2025-05-20 00:00:00-04:00    207.509293\n",
       "Name: Close, Length: 123, dtype: float64"
      ]
     },
     "execution_count": 5,
     "metadata": {},
     "output_type": "execute_result"
    }
   ],
   "source": [
    "data.Close"
   ]
  },
  {
   "cell_type": "code",
   "execution_count": 12,
   "id": "aaa83bad",
   "metadata": {},
   "outputs": [
    {
     "data": {
      "text/plain": [
       "<Axes: xlabel='Date'>"
      ]
     },
     "execution_count": 12,
     "metadata": {},
     "output_type": "execute_result"
    },
    {
     "data": {
      "image/png": "[encoded data removed]",
      "text/plain": [
       "<Figure size 640x480 with 1 Axes>"
      ]
     },
     "metadata": {},
     "output_type": "display_data"
    }
   ],
   "source": [
    "ticker = input(\"Digita el código de la acción: \")\n",
    "\n",
    "data = yfinance.Ticker(ticker).history(\"6mo\")\n",
    "cierre = data.Close\n",
    "\n",
    "cierre.plot()"
   ]
  },
  {
   "cell_type": "markdown",
   "id": "786f4552",
   "metadata": {},
   "source": [
    "# Crear los analisis solicitados "
   ]
  },
  {
   "cell_type": "code",
   "execution_count": 8,
   "id": "16afa20a",
   "metadata": {},
   "outputs": [
    {
     "data": {
      "text/plain": [
       "np.float64(258.4)"
      ]
     },
     "execution_count": 8,
     "metadata": {},
     "output_type": "execute_result"
    }
   ],
   "source": [
    "round(cierre.max(), 2)"
   ]
  },
  {
   "cell_type": "code",
   "execution_count": 7,
   "id": "d3bf3457",
   "metadata": {},
   "outputs": [
    {
     "data": {
      "text/plain": [
       "np.float64(172.19)"
      ]
     },
     "execution_count": 7,
     "metadata": {},
     "output_type": "execute_result"
    }
   ],
   "source": [
    "round(cierre.min(), 2)"
   ]
  },
  {
   "cell_type": "code",
   "execution_count": 9,
   "id": "9dc2ce2f",
   "metadata": {},
   "outputs": [
    {
     "data": {
      "text/plain": [
       "np.float64(226.21)"
      ]
     },
     "execution_count": 9,
     "metadata": {},
     "output_type": "execute_result"
    }
   ],
   "source": [
    "round(cierre.mean(),2)"
   ]
  },
  {
   "cell_type": "code",
   "execution_count": 13,
   "id": "a591dadd",
   "metadata": {},
   "outputs": [
    {
     "name": "stdout",
     "output_type": "stream",
     "text": [
      "258.4\n",
      "172.19\n",
      "226.21\n"
     ]
    }
   ],
   "source": [
    "maxima = round(cierre.max(), 2)\n",
    "minima = round(cierre.min(), 2)\n",
    "valor_medio = round(cierre.mean(), 2)\n",
    "\n",
    "print(maxima)\n",
    "print(minima)\n",
    "print(valor_medio)"
   ]
  },
  {
   "cell_type": "markdown",
   "id": "725b322d",
   "metadata": {},
   "source": [
    "# Enviar E-mail automáticamente"
   ]
  },
  {
   "cell_type": "code",
   "execution_count": null,
   "id": "da9111c6",
   "metadata": {},
   "outputs": [],
   "source": [
    "! pip install pyautogui\n",
    "! pip install pyperclip"
   ]
  },
  {
   "cell_type": "code",
   "execution_count": null,
   "id": "5a6a64f4",
   "metadata": {},
   "outputs": [],
   "source": [
    "import pyautogui\n",
    "import pyperclip\n",
    "import webbrowser\n",
    "import time\n",
    "\n",
    "destinatario = \"CORREOINVENTADOPRUEBA@gmail.com\"\n",
    "asunto = \"Analisis acciones de Apple ultimos 6 meses\"\n",
    "grafico = cierre\n",
    "mensaje = f\"\"\"\n",
    "Hola! \n",
    "\n",
    "Te adjunto el analisis de las aciones de los ultimos 6 meses de {ticker}:\n",
    "\n",
    "Cotización máxima : USD {maxima}\n",
    "Cotización mínima : USD {minima}\n",
    "Valor medio : USD {valor_medio}\n",
    "\n",
    "Quedo atento a cualquier cosa\n",
    "\n",
    "Oscar\n",
    "\n",
    "\"\"\"\n",
    "\n",
    "\n",
    "webbrowser.open(\"https://mail.google.com/mail/u/0/?ogbl#inbox\")\n",
    "\n",
    "time.sleep(3)\n",
    "\n",
    "pyautogui.PAUSE=2\n",
    "\n",
    "pyautogui.click(93,276)\n",
    "\n",
    "time.sleep(1)\n",
    "\n",
    "pyperclip.copy(destinatario)\n",
    "pyautogui.hotkey(\"ctrl\",\"v\")\n",
    "pyautogui.hotkey(\"tab\")\n",
    "\n",
    "pyperclip.copy(asunto)\n",
    "pyautogui.hotkey(\"ctrl\",\"v\")\n",
    "pyautogui.hotkey(\"tab\")\n",
    "\n",
    "pyperclip.copy(mensaje)\n",
    "pyautogui.hotkey(\"ctrl\",\"v\")\n",
    "\n",
    "\n",
    "pyautogui.click(1222, 983)\n",
    "\n",
    "pyautogui.hotkey(\"ctrl\",\"f4\")\n",
    "\n",
    "\n"
   ]
  },
  {
   "cell_type": "code",
   "execution_count": 37,
   "id": "b223efbb",
   "metadata": {},
   "outputs": [
    {
     "data": {
      "text/plain": [
       "Point(x=1222, y=983)"
      ]
     },
     "execution_count": 37,
     "metadata": {},
     "output_type": "execute_result"
    }
   ],
   "source": [
    "pyautogui.position()"
   ]
  }
 ],
 "metadata": {
  "kernelspec": {
   "display_name": "Python 3",
   "language": "python",
   "name": "python3"
  },
  "language_info": {
   "codemirror_mode": {
    "name": "ipython",
    "version": 3
   },
   "file_extension": ".py",
   "mimetype": "text/x-python",
   "name": "python",
   "nbconvert_exporter": "python",
   "pygments_lexer": "ipython3",
   "version": "3.11.9"
  }
 },
 "nbformat": 4,
 "nbformat_minor": 5
}
